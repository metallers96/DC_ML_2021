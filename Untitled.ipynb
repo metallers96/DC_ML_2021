{
 "cells": [
  {
   "cell_type": "code",
   "execution_count": 148,
   "id": "ff3fce19",
   "metadata": {},
   "outputs": [],
   "source": [
    "import pandas as pd\n",
    "import numpy as  np\n"
   ]
  },
  {
   "cell_type": "code",
   "execution_count": 149,
   "id": "c8599ac6",
   "metadata": {},
   "outputs": [],
   "source": [
    "#Load the energy data from the file\n",
    "energy = pd.read_excel(\"Energy Indicators.xls\")\n"
   ]
  },
  {
   "cell_type": "code",
   "execution_count": 150,
   "id": "52196377",
   "metadata": {},
   "outputs": [],
   "source": [
    "#exluding header and footer\n",
    "energy = energy[17:244]\n"
   ]
  },
  {
   "cell_type": "code",
   "execution_count": 151,
   "id": "5660bb1d",
   "metadata": {},
   "outputs": [],
   "source": [
    "#drop first two unneccessary columns\n",
    "energy.drop(columns=['Unnamed: 0', 'Unnamed: 1'], inplace=True)"
   ]
  },
  {
   "cell_type": "code",
   "execution_count": 152,
   "id": "e1df8567",
   "metadata": {},
   "outputs": [],
   "source": [
    "#rename columns\n",
    "energy = energy.rename(columns={'Unnamed: 2':'Country', \n",
    "                        'Unnamed: 3':'Energy Supply', \n",
    "                        'Unnamed: 4':'Energy Supply per Capita', \n",
    "                        'Unnamed: 5':'% Renewable'})"
   ]
  },
  {
   "cell_type": "code",
   "execution_count": 153,
   "id": "85eb68c2",
   "metadata": {},
   "outputs": [],
   "source": [
    "#Convert Energy Supply to gigajoules \n",
    "energy['Energy Supply'] = energy['Energy Supply'] * 1000000\n"
   ]
  },
  {
   "cell_type": "code",
   "execution_count": 154,
   "id": "85258841",
   "metadata": {},
   "outputs": [],
   "source": [
    "#mark missing data as NaN\n",
    "energy['Energy Supply'] = energy[\"Energy Supply\"].apply(lambda val: val if type(val) == int else np.nan)\n"
   ]
  },
  {
   "cell_type": "code",
   "execution_count": 155,
   "id": "3800e069",
   "metadata": {},
   "outputs": [],
   "source": [
    "#Rename the following list of countries\n",
    "\n",
    "energy[\"Country\"].replace({'Republic of Korea': 'South Korea',\n",
    "'United States of America': 'United States',\n",
    "'United Kingdom of Great Britain and Northern Ireland': 'United Kingdom',\n",
    "'China, Hong Kong Special Administrative Region': 'Hong Kong'}, inplace=True)"
   ]
  },
  {
   "cell_type": "code",
   "execution_count": 156,
   "id": "3aa89a47",
   "metadata": {},
   "outputs": [],
   "source": [
    "import re"
   ]
  },
  {
   "cell_type": "code",
   "execution_count": 157,
   "id": "f7093268",
   "metadata": {},
   "outputs": [],
   "source": [
    "\n",
    "energy_list_countries = energy['Country']\n",
    "\n",
    "# function remove numbers and/or parenthesis in their name\n",
    "def remove_num_and_paran(country):\n",
    "    try:\n",
    "        return re.findall(\n",
    "            '^[^(]*[^\\0-9]',\n",
    "            (energy_list_countries[country] if country in energy_list_countries.keys() else country)\n",
    "        )[0]\n",
    "    except:\n",
    "        return np.nan"
   ]
  },
  {
   "cell_type": "code",
   "execution_count": 158,
   "id": "3366d516",
   "metadata": {},
   "outputs": [],
   "source": [
    "energy['Country'] = energy['Country'].apply(remove_num_and_paran)"
   ]
  },
  {
   "cell_type": "code",
   "execution_count": 159,
   "id": "c8f0cd7d",
   "metadata": {},
   "outputs": [],
   "source": [
    "#GDP from 1960 to 2015 from World Bank.\n",
    "\n",
    "GDP = pd.read_csv(\"world_bank_GDP.csv\", encoding='utf-8', engine='python',  skiprows=3, sep=',')\n",
    "GDP.rename(columns={'Country Name': 'Country'}, inplace=True)"
   ]
  },
  {
   "cell_type": "code",
   "execution_count": 160,
   "id": "13bfe17e",
   "metadata": {},
   "outputs": [],
   "source": [
    "#GDP from 1960 to 2015 \n",
    "GDP.drop(columns= ['2016', '2017', '2018', '2019', '2020', 'Unnamed: 65'], inplace=True)"
   ]
  },
  {
   "cell_type": "code",
   "execution_count": 161,
   "id": "14f70da7",
   "metadata": {},
   "outputs": [],
   "source": [
    "#ename the list of countries\n",
    "GDP[\"Country\"].replace({'Korea, Rep.': 'South Korea',\n",
    "                            'Iran, Islamic Rep.': 'Iran',\n",
    "                            'Hong Kong SAR, China' : 'Hong Kong'\n",
    "                            }, inplace=True)"
   ]
  },
  {
   "cell_type": "code",
   "execution_count": 162,
   "id": "0aca8082",
   "metadata": {},
   "outputs": [],
   "source": [
    "#Load DataFrame \"ScimEn\" from 'Sciamgo Journal and Country Rank data for Energy Engineering and Power Technology'\n",
    "ScimEn = pd.read_excel('scimagojr.xlsx')"
   ]
  },
  {
   "cell_type": "code",
   "execution_count": 163,
   "id": "9525cf26",
   "metadata": {},
   "outputs": [],
   "source": [
    "# merge Energy, GDP, and ScimEn dataframes\n",
    "joined_e_to_G = energy.merge(GDP, on=\"Country\", how=\"inner\")\n",
    "joined_dataframes = joined_e_to_G.merge(ScimEn, on=\"Country\", how=\"inner\").set_index('Country')"
   ]
  },
  {
   "cell_type": "code",
   "execution_count": 164,
   "id": "3e298a95",
   "metadata": {},
   "outputs": [],
   "source": [
    "joined_dataframes.drop(columns=['Country Code', 'Indicator Name', 'Indicator Code', '1960', '1961',\n",
    "                                '1962', '1963', '1964', '1965', '1966', '1967', '1968', '1969',\n",
    "                                '1970', '1971', '1972', '1973', '1974', '1975', '1976', '1977', \n",
    "                                '1978', '1979', '1980', '1981', '1982', '1983', '1984', '1985',\n",
    "                                '1986', '1987', '1988', '1989', '1990', '1991', '1992', '1993',\n",
    "                                '1994', '1995', '1996', '1997', '1998', '1999', '2000', '2001', \n",
    "                                '2002', '2003', '2004', '2005', 'Region'], inplace=True)"
   ]
  },
  {
   "cell_type": "markdown",
   "id": "ea2cfe98",
   "metadata": {},
   "source": [
    "# Q1\n"
   ]
  },
  {
   "cell_type": "code",
   "execution_count": 165,
   "id": "62a244fd",
   "metadata": {},
   "outputs": [],
   "source": [
    "joined_dataframes = joined_dataframes[['Rank', 'Documents', 'Citable documents','Citations', 'Self-citations', \n",
    "                                  'Citations per document', 'H index', 'Energy Supply', 'Energy Supply per Capita',\n",
    "                                  '% Renewable', '2006', '2007', '2008', '2009', '2010', '2011', '2012', '2013',\n",
    "                                  '2014', '2015']]"
   ]
  },
  {
   "cell_type": "code",
   "execution_count": 176,
   "id": "2b89cb11",
   "metadata": {},
   "outputs": [],
   "source": [
    "def answer_one():\n",
    "    '''-return the resulted DataFrame (20 columns and 15 entries)'''\n",
    "    return joined_dataframes.sort_values(by='Rank').iloc[:15]"
   ]
  },
  {
   "cell_type": "code",
   "execution_count": null,
   "id": "f4b2fe3c",
   "metadata": {},
   "outputs": [],
   "source": [
    "answer_one()"
   ]
  },
  {
   "cell_type": "markdown",
   "id": "ec834184",
   "metadata": {},
   "source": [
    "# Q2"
   ]
  },
  {
   "cell_type": "code",
   "execution_count": 174,
   "id": "c9cfcd5f",
   "metadata": {},
   "outputs": [],
   "source": [
    "def answer_two():\n",
    "    '''Show average GDP over the last 10 years for list of countries\n",
    "    -->return a Series named avgGDP with 15 countries and their average GDP'''\n",
    "    Top15 = answer_one()\n",
    "    avgGDP = (\n",
    "        Top15[['2006', '2007', '2008', '2009', '2010', '2011', '2012', '2013', '2014', '2015']]\n",
    "            .T\n",
    "            .describe()\n",
    "            .mean()\n",
    "            .sort_values(ascending=False)\n",
    "    )\n",
    "    return avgGDP"
   ]
  },
  {
   "cell_type": "code",
   "execution_count": null,
   "id": "dd4bbe13",
   "metadata": {},
   "outputs": [],
   "source": [
    "answer_two()"
   ]
  },
  {
   "cell_type": "markdown",
   "id": "590c0420",
   "metadata": {},
   "source": [
    "# Q3"
   ]
  },
  {
   "cell_type": "code",
   "execution_count": 173,
   "id": "c953adea",
   "metadata": {},
   "outputs": [],
   "source": [
    "def answer_three():\n",
    "    '''Show how much had the GDP changed over the 10 year span for the country with the 6th largest average GDP\n",
    "    -->return a single number'''\n",
    "    Top15 = answer_one() \n",
    "    country = answer_two().index[5]\n",
    "    ratio = Top15.loc[country]['2006'] / Top15.loc[country]['2015']\n",
    "    return ratio"
   ]
  },
  {
   "cell_type": "code",
   "execution_count": null,
   "id": "da34566e",
   "metadata": {},
   "outputs": [],
   "source": [
    "answer_three()"
   ]
  },
  {
   "cell_type": "markdown",
   "id": "c91b3fcc",
   "metadata": {},
   "source": [
    "# Q4"
   ]
  },
  {
   "cell_type": "code",
   "execution_count": 171,
   "id": "d44725a8",
   "metadata": {},
   "outputs": [],
   "source": [
    "def answer_four():\n",
    "    '''Function show the maximum value of ratio of Self-Citations to Total Citations\n",
    "    -->return a tuple with the name of the country and the ratio'''\n",
    "    Top15 = answer_one()\n",
    "    ratio_citations = Top15['Self-citations'] / Top15['Citations']\n",
    "    ratio_citations = ratio_citations.sort_values(ascending=False)\n",
    "    return (ratio_citations.index[0], ratio_citations[0])"
   ]
  },
  {
   "cell_type": "code",
   "execution_count": 172,
   "id": "6d3bc104",
   "metadata": {},
   "outputs": [
    {
     "data": {
      "text/plain": [
       "('China', 0.6912289816173135)"
      ]
     },
     "execution_count": 172,
     "metadata": {},
     "output_type": "execute_result"
    }
   ],
   "source": [
    "answer_four()"
   ]
  },
  {
   "cell_type": "markdown",
   "id": "88a95440",
   "metadata": {},
   "source": [
    "# Q5"
   ]
  },
  {
   "cell_type": "code",
   "execution_count": 141,
   "id": "4df7ac0a",
   "metadata": {},
   "outputs": [],
   "source": [
    "def answer_five():\n",
    "    '''Show the third most populous country by specified list\n",
    "    -->return a single string value'''\n",
    "    Top15 = answer_one()\n",
    "    country = (Top15['Energy Supply'] / Top15['Energy Supply per Capita']).sort_values(ascending=False).index[2]\n",
    "    return country"
   ]
  },
  {
   "cell_type": "code",
   "execution_count": 142,
   "id": "7810ae1b",
   "metadata": {},
   "outputs": [
    {
     "data": {
      "text/plain": [
       "'Brazil'"
      ]
     },
     "execution_count": 142,
     "metadata": {},
     "output_type": "execute_result"
    }
   ],
   "source": [
    "answer_five()"
   ]
  },
  {
   "cell_type": "markdown",
   "id": "0559afa7",
   "metadata": {},
   "source": [
    "# Q6"
   ]
  },
  {
   "cell_type": "code",
   "execution_count": 143,
   "id": "3932f9ad",
   "metadata": {},
   "outputs": [],
   "source": [
    "def answer_six():\n",
    "    '''Show correlation between the number of citable documents per capita and the energy supply per capita\n",
    "    -->return a single number'''\n",
    "    Top15 = answer_one()\n",
    "    Top15['Population'] = Top15['Energy Supply'] / Top15['Energy Supply per Capita']\n",
    "    Top15['Documents per Capita'] = Top15['Citable documents'] / Top15['Population']\n",
    "    correlation = Top15[['Documents per Capita', 'Energy Supply per Capita']].astype(float).corr().iloc[0][1]\n",
    "    return correlation"
   ]
  },
  {
   "cell_type": "code",
   "execution_count": 144,
   "id": "2d1bfa26",
   "metadata": {},
   "outputs": [
    {
     "data": {
      "text/plain": [
       "0.7392980085965914"
      ]
     },
     "execution_count": 144,
     "metadata": {},
     "output_type": "execute_result"
    }
   ],
   "source": [
    "answer_six()"
   ]
  },
  {
   "cell_type": "markdown",
   "id": "0a3c3406",
   "metadata": {},
   "source": [
    "\n",
    "# Q7"
   ]
  },
  {
   "cell_type": "code",
   "execution_count": 145,
   "id": "32d472f1",
   "metadata": {},
   "outputs": [],
   "source": [
    "# dictionary of Countries by Continent\n",
    "ContinentDict  = {\n",
    "    'China':'Asia', \n",
    "    'United States':'North America', \n",
    "    'Japan':'Asia', \n",
    "    'United Kingdom':'Europe', \n",
    "    'Russian Federation':'Europe', \n",
    "    'Canada':'North America', \n",
    "    'Germany':'Europe', \n",
    "    'India':'Asia',\n",
    "    'France':'Europe', \n",
    "    'South Korea':'Asia', \n",
    "    'Italy':'Europe', \n",
    "    'Spain':'Europe', \n",
    "    'Iran':'Asia',\n",
    "    'Australia':'Australia', \n",
    "    'Brazil':'South America',\n",
    "    'Turkey': 'Asia',\n",
    "    'Norway': 'Europe'\n",
    "}\n",
    "\n",
    "def answer_seven():\n",
    "    '''Group the Countries by Continent show size (the number of countries in each continent), sum, mean,\n",
    "    and std deviation for the estimated population of each continent\n",
    "    -->return a DataFrame with index named Continent and columns ['size', 'sum', 'mean', 'std']'''\n",
    "    Top15 = answer_one().reset_index()\n",
    "    \n",
    "    Top15['Continent'] = Top15['Country'].apply(lambda val: ContinentDict[val])\n",
    "    Top15['Population'] = (Top15['Energy Supply'] / Top15['Energy Supply per Capita']).astype(float)    \n",
    "    grouped_df = Top15.groupby(['Continent'])['Population'].agg(['size', 'sum', 'mean', 'std'])\n",
    "    return grouped_df"
   ]
  },
  {
   "cell_type": "code",
   "execution_count": 146,
   "id": "50a460d1",
   "metadata": {},
   "outputs": [
    {
     "data": {
      "text/html": [
       "<div>\n",
       "<style scoped>\n",
       "    .dataframe tbody tr th:only-of-type {\n",
       "        vertical-align: middle;\n",
       "    }\n",
       "\n",
       "    .dataframe tbody tr th {\n",
       "        vertical-align: top;\n",
       "    }\n",
       "\n",
       "    .dataframe thead th {\n",
       "        text-align: right;\n",
       "    }\n",
       "</style>\n",
       "<table border=\"1\" class=\"dataframe\">\n",
       "  <thead>\n",
       "    <tr style=\"text-align: right;\">\n",
       "      <th></th>\n",
       "      <th>size</th>\n",
       "      <th>sum</th>\n",
       "      <th>mean</th>\n",
       "      <th>std</th>\n",
       "    </tr>\n",
       "    <tr>\n",
       "      <th>Continent</th>\n",
       "      <th></th>\n",
       "      <th></th>\n",
       "      <th></th>\n",
       "      <th></th>\n",
       "    </tr>\n",
       "  </thead>\n",
       "  <tbody>\n",
       "    <tr>\n",
       "      <th>Asia</th>\n",
       "      <td>6</td>\n",
       "      <td>2.975182e+09</td>\n",
       "      <td>4.958637e+08</td>\n",
       "      <td>6.412050e+08</td>\n",
       "    </tr>\n",
       "    <tr>\n",
       "      <th>Australia</th>\n",
       "      <td>1</td>\n",
       "      <td>2.331602e+07</td>\n",
       "      <td>2.331602e+07</td>\n",
       "      <td>NaN</td>\n",
       "    </tr>\n",
       "    <tr>\n",
       "      <th>Europe</th>\n",
       "      <td>6</td>\n",
       "      <td>3.991429e+08</td>\n",
       "      <td>6.652382e+07</td>\n",
       "      <td>4.548861e+07</td>\n",
       "    </tr>\n",
       "    <tr>\n",
       "      <th>North America</th>\n",
       "      <td>1</td>\n",
       "      <td>3.523986e+07</td>\n",
       "      <td>3.523986e+07</td>\n",
       "      <td>NaN</td>\n",
       "    </tr>\n",
       "    <tr>\n",
       "      <th>South America</th>\n",
       "      <td>1</td>\n",
       "      <td>2.059153e+08</td>\n",
       "      <td>2.059153e+08</td>\n",
       "      <td>NaN</td>\n",
       "    </tr>\n",
       "  </tbody>\n",
       "</table>\n",
       "</div>"
      ],
      "text/plain": [
       "               size           sum          mean           std\n",
       "Continent                                                    \n",
       "Asia              6  2.975182e+09  4.958637e+08  6.412050e+08\n",
       "Australia         1  2.331602e+07  2.331602e+07           NaN\n",
       "Europe            6  3.991429e+08  6.652382e+07  4.548861e+07\n",
       "North America     1  3.523986e+07  3.523986e+07           NaN\n",
       "South America     1  2.059153e+08  2.059153e+08           NaN"
      ]
     },
     "execution_count": 146,
     "metadata": {},
     "output_type": "execute_result"
    }
   ],
   "source": [
    "answer_seven()"
   ]
  }
 ],
 "metadata": {
  "kernelspec": {
   "display_name": "Python 3",
   "language": "python",
   "name": "python3"
  },
  "language_info": {
   "codemirror_mode": {
    "name": "ipython",
    "version": 3
   },
   "file_extension": ".py",
   "mimetype": "text/x-python",
   "name": "python",
   "nbconvert_exporter": "python",
   "pygments_lexer": "ipython3",
   "version": "3.8.8"
  }
 },
 "nbformat": 4,
 "nbformat_minor": 5
}
